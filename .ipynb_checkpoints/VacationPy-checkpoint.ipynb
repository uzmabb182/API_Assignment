{
 "cells": [
  {
   "cell_type": "markdown",
   "metadata": {},
   "source": [
    "# VacationPy\n",
    "----\n",
    "\n",
    "#### Note\n",
    "* Keep an eye on your API usage. Use https://developers.google.com/maps/reporting/gmp-reporting as reference for how to monitor your usage and billing.\n",
    "\n",
    "* Instructions have been included for each segment. You do not have to follow them exactly, but they are included to help you think through the steps."
   ]
  },
  {
   "cell_type": "code",
   "execution_count": null,
   "metadata": {},
   "outputs": [],
   "source": [
    "# Dependencies and Setup\n",
    "import matplotlib.pyplot as plt\n",
    "import pandas as pd\n",
    "import numpy as np\n",
    "import requests\n",
    "import gmaps\n",
    "import time\n",
    "import os\n",
    "import json\n",
    "# Import API key\n",
    "from api_keys import g_key"
   ]
  },
  {
   "cell_type": "markdown",
   "metadata": {},
   "source": [
    "### Store Part I results into DataFrame\n",
    "* Load the csv exported in Part I to a DataFrame"
   ]
  },
  {
   "cell_type": "code",
   "execution_count": null,
   "metadata": {},
   "outputs": [],
   "source": [
    "# Import cities file into the cities_pd DataFrame\n",
    "\n",
    "# Read in the csv data from the csv exported in part I:\n",
    "# cities_df = pd.read_csv('../resources/weather_output.csv')[:10]\n",
    "\n",
    "weather_df = pd.read_csv('../resources/weather_output.csv')\n",
    "weather_df.head()"
   ]
  },
  {
   "cell_type": "markdown",
   "metadata": {},
   "source": [
    "### Humidity Heatmap\n",
    "* Configure gmaps.\n",
    "* Use the Lat and Lng as locations and Humidity as the weight.\n",
    "* Add Heatmap layer to map."
   ]
  },
  {
   "cell_type": "code",
   "execution_count": null,
   "metadata": {},
   "outputs": [],
   "source": [
    "# Import dependencies\n",
    "\n",
    "import gmaps\n",
    "import gmaps.datasets\n",
    "gmaps.configure(api_key=g_key)\n"
   ]
  },
  {
   "cell_type": "code",
   "execution_count": null,
   "metadata": {},
   "outputs": [],
   "source": [
    "# Create a heat map that displays the humidity for every city from Part I."
   ]
  },
  {
   "cell_type": "code",
   "execution_count": null,
   "metadata": {},
   "outputs": [],
   "source": [
    "# Creating heat map\n",
    "\n",
    "fig = gmaps.figure(map_type='HYBRID')\n",
    "heatmap_layer = gmaps.heatmap_layer(weather_df[[\"Lat\", \"Lng\"]])\n",
    "fig.add_layer(heatmap_layer)\n",
    "fig\n"
   ]
  },
  {
   "cell_type": "code",
   "execution_count": null,
   "metadata": {},
   "outputs": [],
   "source": [
    "max_humidity = weather_df[\"Humidity\"].max() \n",
    "max_humidity"
   ]
  },
  {
   "cell_type": "code",
   "execution_count": null,
   "metadata": {},
   "outputs": [],
   "source": [
    "# Plot Heatmap\n",
    "fig = gmaps.figure()\n",
    "\n",
    "# Create heat layer\n",
    "#fig = gmaps.figure(map_type='HYBRID')\n",
    "heat_layer = gmaps.heatmap_layer(weather_df[[\"Lat\", \"Lng\"]], weights=weather_df[\"Humidity\"], \n",
    "                                 dissipating=False, max_intensity=100,\n",
    "                                 point_radius=1)\n",
    "\n",
    "\n",
    "# Add layer\n",
    "fig.add_layer(heat_layer)\n",
    "\n",
    "# Display figure\n",
    "fig"
   ]
  },
  {
   "cell_type": "code",
   "execution_count": null,
   "metadata": {},
   "outputs": [],
   "source": [
    "# Customize the size of the figure\n",
    "figure_layout = {\n",
    "    'width': '600px',\n",
    "    'height': '500px',\n",
    "    'border': '1px solid black',\n",
    "    'padding': '1px',\n",
    "    'margin': '0 auto 0 auto'\n",
    "}\n",
    "fig = gmaps.figure(layout=figure_layout)"
   ]
  },
  {
   "cell_type": "code",
   "execution_count": null,
   "metadata": {},
   "outputs": [],
   "source": [
    "# Assign the marker layer to a variable\n",
    "markers = gmaps.marker_layer(weather_df[[\"Lat\", \"Lng\"]])\n",
    "# Add the layer to the map\n",
    "fig.add_layer(markers)\n",
    "fig"
   ]
  },
  {
   "cell_type": "code",
   "execution_count": null,
   "metadata": {},
   "outputs": [],
   "source": []
  },
  {
   "cell_type": "markdown",
   "metadata": {},
   "source": [
    "### Create new DataFrame fitting weather criteria\n",
    "* Narrow down the cities to fit weather conditions.\n",
    "* Drop any rows will null values."
   ]
  },
  {
   "cell_type": "code",
   "execution_count": null,
   "metadata": {},
   "outputs": [],
   "source": [
    "# Narrow down the DataFrame to find your ideal weather condition. For example:\n",
    "\n",
    "# A max temperature lower than 80 degrees but higher than 70.\n",
    "\n",
    "# Wind speed less than 10 mph.\n",
    "\n",
    "# Zero cloudiness.\n",
    "\n",
    "# Drop any rows that don't contain all three conditions. You want to be sure the weather is ideal.\n",
    "\n",
    "ideal_weather_df = weather_df.loc[(weather_df['Max_Temp'] < 80) & (weather_df['Max_Temp'] > 70) & (weather_df['Wind_Speed'] < 10) & (weather_df['Cloudiness'] == 0)]\n",
    "ideal_weather_df\n"
   ]
  },
  {
   "cell_type": "code",
   "execution_count": null,
   "metadata": {},
   "outputs": [],
   "source": [
    "ideal_weather_df = ideal_weather_df.dropna()"
   ]
  },
  {
   "cell_type": "code",
   "execution_count": null,
   "metadata": {},
   "outputs": [],
   "source": [
    "ideal_weather_df.head()"
   ]
  },
  {
   "cell_type": "code",
   "execution_count": null,
   "metadata": {},
   "outputs": [],
   "source": [
    "ideal_weather_df.info()"
   ]
  },
  {
   "cell_type": "markdown",
   "metadata": {},
   "source": [
    "### Hotel Map\n",
    "* Store into variable named `hotel_df`.\n",
    "* Add a \"Hotel Name\" column to the DataFrame.\n",
    "* Set parameters to search for hotels with 5000 meters.\n",
    "* Hit the Google Places API for each city's coordinates.\n",
    "* Store the first Hotel result into the DataFrame.\n",
    "* Plot markers on top of the heatmap."
   ]
  },
  {
   "cell_type": "code",
   "execution_count": null,
   "metadata": {},
   "outputs": [],
   "source": [
    "# Create a new dataframe\n",
    "hotel_df = pd.DataFrame({'City':pd.Series([], dtype='str'),\n",
    "                        'Country':pd.Series([], dtype='str'),\n",
    "                        'Lat':pd.Series([], dtype='float'),\n",
    "                        'Lng':pd.Series([], dtype='float'),\n",
    "                        'Hotel_Name':pd.Series([], dtype='str'),\n",
    "                        'Hotel_Ratings':pd.Series([], dtype='str')})                   \n",
    "print (hotel_df)\n"
   ]
  },
  {
   "cell_type": "code",
   "execution_count": null,
   "metadata": {},
   "outputs": [],
   "source": [
    "# Build URL using the Google Maps API\n",
    "    \n",
    "base_url = \"https://maps.googleapis.com/maps/api/place/nearbysearch/json\"\n",
    "\n",
    "    \n",
    "for i, row in weather_df.iterrows():\n",
    "    \n",
    "    # row[9] is pointing to values in column # 9 \n",
    "    \n",
    "    city = row[2]\n",
    "    country = row[9]    \n",
    "    #print(f\"{country}\")\n",
    "    \n",
    "    lat_lng = weather_df[[\"Lat\", \"Lng\"]].iloc[i]\n",
    "    #print(lat_lng)\n",
    "    \n",
    "    lat = lat_lng[0]\n",
    "    lng = lat_lng[1]\n",
    "    \n",
    "    location = f'{lat},{lng}'\n",
    "    \n",
    "    target_search = \"Hotel\"\n",
    "    hotel_coords = location\n",
    "    radius = \"5000\"\n",
    "    \n",
    "    # redefine params\n",
    "    params = {\n",
    "        \"location\": hotel_coords,\n",
    "        \"keyword\": target_search,\n",
    "        \"radius\": radius,\n",
    "        \"key\": g_key\n",
    "        }\n",
    "    \n",
    "    # Run request\n",
    "    response = requests.get(base_url, params).json()\n",
    "    print(json.dumps(response, indent=4, sort_keys=True))\n",
    "    \n",
    "    try:\n",
    "    \n",
    "        latitutde = response[\"results\"][0][\"geometry\"][\"location\"][\"lat\"]\n",
    "        longitude = response[\"results\"][0][\"geometry\"][\"location\"][\"lng\"]\n",
    "        name = response[\"results\"][0][\"name\"]\n",
    "        rating = response[\"results\"][0][\"rating\"]\n",
    "                      \n",
    "        hotel_df.loc[i, \"Lat\"] = latitutde\n",
    "        hotel_df.loc[i, \"Lng\"] = longitude\n",
    "        hotel_df.loc[i, \"Hotel_Name\"] = name\n",
    "        hotel_df.loc[i, \"Hotel_Ratings\"] = rating\n",
    "        hotel_df.loc[i, \"City\"] = city\n",
    "        hotel_df.loc[i, \"Country\"] = country\n",
    "        \n",
    "        time.sleep(1)\n",
    "       \n",
    "    except (KeyError, IndexError):   \n",
    "        \n",
    "        print(\"Hotel not found!\")"
   ]
  },
  {
   "cell_type": "code",
   "execution_count": null,
   "metadata": {},
   "outputs": [],
   "source": [
    "hotel_df.head()"
   ]
  },
  {
   "cell_type": "code",
   "execution_count": null,
   "metadata": {},
   "outputs": [],
   "source": [
    "hotel_df.info()"
   ]
  },
  {
   "cell_type": "code",
   "execution_count": null,
   "metadata": {},
   "outputs": [],
   "source": [
    "# NOTE: Do not change any of the code in this cell\n",
    "\n",
    "# Using the template add the hotel marks to the heatmap\n",
    "info_box_template = \"\"\"\n",
    "<dl>\n",
    "<dt>Name</dt><dd>{Hotel Name}</dd>\n",
    "<dt>City</dt><dd>{City}</dd>\n",
    "<dt>Country</dt><dd>{Country}</dd>\n",
    "</dl>\n",
    "\"\"\"\n",
    "# Store the DataFrame Row\n",
    "# NOTE: be sure to update with your DataFrame name\n",
    "#hotel_info = [info_box_template.format(**row) for index, row in hotel_df.iterrows()]\n",
    "#locations = hotel_df[[\"Lat\", \"Lng\"]]"
   ]
  },
  {
   "cell_type": "code",
   "execution_count": null,
   "metadata": {},
   "outputs": [],
   "source": [
    "# Convert 'Hotel_Name' as a list\n",
    "\n",
    "hotel_name = hotel_df[\"Hotel_Name\"].tolist()"
   ]
  },
  {
   "cell_type": "code",
   "execution_count": null,
   "metadata": {},
   "outputs": [],
   "source": [
    "hotel_df[['Lat', 'Lng']]"
   ]
  },
  {
   "cell_type": "code",
   "execution_count": null,
   "metadata": {},
   "outputs": [],
   "source": [
    "# Create a map using state centroid coordinates to set markers\n",
    "marker_locations = hotel_df[['Lat', 'Lng']]\n",
    "\n",
    "# Create a marker_layer using the hotel name list to fill the info box\n",
    "fig = gmaps.figure()\n",
    "markers = gmaps.marker_layer(marker_locations,\n",
    "    info_box_content=[f\"Hotel name: {name}\" for name in hotel_name])\n",
    "fig.add_layer(markers)\n",
    "fig"
   ]
  },
  {
   "cell_type": "code",
   "execution_count": null,
   "metadata": {},
   "outputs": [],
   "source": [
    "# Convert 'City' name as a list\n",
    "city_name = hotel_df[\"City\"].tolist()\n",
    "\n"
   ]
  },
  {
   "cell_type": "code",
   "execution_count": null,
   "metadata": {},
   "outputs": [],
   "source": [
    "# Create a map using state centroid coordinates to set markers\n",
    "marker_locations = hotel_df[['Lat', 'Lng']]\n",
    "\n",
    "# Create a marker_layer using the City name list to fill the info box\n",
    "fig = gmaps.figure()\n",
    "markers = gmaps.marker_layer(marker_locations,\n",
    "    info_box_content=[f\"City name: {name}\" for name in city_name])\n",
    "fig.add_layer(markers)\n",
    "fig"
   ]
  },
  {
   "cell_type": "code",
   "execution_count": null,
   "metadata": {},
   "outputs": [],
   "source": [
    "# Convert 'Country' name as a list\n",
    "country_name = hotel_df[\"Country\"].tolist()"
   ]
  },
  {
   "cell_type": "code",
   "execution_count": null,
   "metadata": {},
   "outputs": [],
   "source": [
    "# Create a map using state centroid coordinates to set markers\n",
    "marker_locations = hotel_df[['Lat', 'Lng']]\n",
    "\n",
    "# Create a marker_layer using the Country name list to fill the info box\n",
    "fig = gmaps.figure()\n",
    "markers = gmaps.marker_layer(marker_locations,\n",
    "    info_box_content=[f\"Country name: {name}\" for name in country_name])\n",
    "fig.add_layer(markers)\n",
    "fig"
   ]
  },
  {
   "cell_type": "code",
   "execution_count": null,
   "metadata": {},
   "outputs": [],
   "source": []
  }
 ],
 "metadata": {
  "kernelspec": {
   "display_name": "Python [conda env:PythonData] *",
   "language": "python",
   "name": "conda-env-PythonData-py"
  },
  "language_info": {
   "codemirror_mode": {
    "name": "ipython",
    "version": 3
   },
   "file_extension": ".py",
   "mimetype": "text/x-python",
   "name": "python",
   "nbconvert_exporter": "python",
   "pygments_lexer": "ipython3",
   "version": "3.6.10"
  },
  "latex_envs": {
   "LaTeX_envs_menu_present": true,
   "autoclose": false,
   "autocomplete": true,
   "bibliofile": "biblio.bib",
   "cite_by": "apalike",
   "current_citInitial": 1,
   "eqLabelWithNumbers": true,
   "eqNumInitial": 1,
   "hotkeys": {
    "equation": "Ctrl-E",
    "itemize": "Ctrl-I"
   },
   "labels_anchors": false,
   "latex_user_defs": false,
   "report_style_numbering": false,
   "user_envs_cfg": false
  }
 },
 "nbformat": 4,
 "nbformat_minor": 4
}
